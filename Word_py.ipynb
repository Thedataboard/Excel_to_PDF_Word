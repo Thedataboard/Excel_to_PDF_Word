{
 "cells": [
  {
   "cell_type": "code",
   "execution_count": null,
   "id": "b8931c77",
   "metadata": {},
   "outputs": [],
   "source": [
    "pip install docxtpl"
   ]
  },
  {
   "cell_type": "code",
   "execution_count": null,
   "id": "3ad35df1",
   "metadata": {},
   "outputs": [],
   "source": [
    "pip install docx2pdf"
   ]
  },
  {
   "cell_type": "code",
   "execution_count": 29,
   "id": "6378367d",
   "metadata": {},
   "outputs": [],
   "source": [
    "from docxtpl import DocxTemplate\n",
    "import os\n",
    "import pandas as pd\n"
   ]
  },
  {
   "cell_type": "code",
   "execution_count": 17,
   "id": "bca8f64f",
   "metadata": {},
   "outputs": [],
   "source": [
    "input_doc = r\"Loan Sanction Confirmation Letter.docx\"\n",
    "input_excel = r\"Input_Data_set.csv\"\n"
   ]
  },
  {
   "cell_type": "code",
   "execution_count": 4,
   "id": "6590f389",
   "metadata": {},
   "outputs": [],
   "source": [
    "#Reading the the excel file with the help of Pandas library\n",
    "input_data = pd.read_csv(input_excel)"
   ]
  },
  {
   "cell_type": "code",
   "execution_count": 47,
   "id": "4ffa05ae",
   "metadata": {},
   "outputs": [
    {
     "data": {
      "text/html": [
       "<div>\n",
       "<style scoped>\n",
       "    .dataframe tbody tr th:only-of-type {\n",
       "        vertical-align: middle;\n",
       "    }\n",
       "\n",
       "    .dataframe tbody tr th {\n",
       "        vertical-align: top;\n",
       "    }\n",
       "\n",
       "    .dataframe thead th {\n",
       "        text-align: right;\n",
       "    }\n",
       "</style>\n",
       "<table border=\"1\" class=\"dataframe\">\n",
       "  <thead>\n",
       "    <tr style=\"text-align: right;\">\n",
       "      <th></th>\n",
       "      <th>Name</th>\n",
       "      <th>Policy</th>\n",
       "      <th>Date</th>\n",
       "      <th>Application Number</th>\n",
       "      <th>Aprroved Amount</th>\n",
       "      <th>Final Tenure</th>\n",
       "      <th>ROI</th>\n",
       "      <th>Processing Fess</th>\n",
       "      <th>Unnamed: 8</th>\n",
       "    </tr>\n",
       "  </thead>\n",
       "  <tbody>\n",
       "    <tr>\n",
       "      <th>0</th>\n",
       "      <td>Merry</td>\n",
       "      <td>809314</td>\n",
       "      <td>31-December-2024</td>\n",
       "      <td>A234TR</td>\n",
       "      <td>1,00,000.00</td>\n",
       "      <td>23M</td>\n",
       "      <td>8</td>\n",
       "      <td>100</td>\n",
       "      <td>NaN</td>\n",
       "    </tr>\n",
       "    <tr>\n",
       "      <th>1</th>\n",
       "      <td>John</td>\n",
       "      <td>809325</td>\n",
       "      <td>01-December-2024</td>\n",
       "      <td>A254RR</td>\n",
       "      <td>2,00,000.00</td>\n",
       "      <td>36M</td>\n",
       "      <td>9</td>\n",
       "      <td>200</td>\n",
       "      <td>NaN</td>\n",
       "    </tr>\n",
       "    <tr>\n",
       "      <th>2</th>\n",
       "      <td>Sebestian</td>\n",
       "      <td>809323</td>\n",
       "      <td>15-December-2023</td>\n",
       "      <td>A23RTY</td>\n",
       "      <td>4,00,00</td>\n",
       "      <td>6M</td>\n",
       "      <td>9</td>\n",
       "      <td>50</td>\n",
       "      <td>NaN</td>\n",
       "    </tr>\n",
       "    <tr>\n",
       "      <th>3</th>\n",
       "      <td>Shiva</td>\n",
       "      <td>802025</td>\n",
       "      <td>20-December-2023</td>\n",
       "      <td>ASFRTU</td>\n",
       "      <td>1,50,000.00</td>\n",
       "      <td>30M</td>\n",
       "      <td>8</td>\n",
       "      <td>150</td>\n",
       "      <td>NaN</td>\n",
       "    </tr>\n",
       "  </tbody>\n",
       "</table>\n",
       "</div>"
      ],
      "text/plain": [
       "        Name  Policy              Date Application Number Aprroved Amount  \\\n",
       "0      Merry  809314  31-December-2024             A234TR    1,00,000.00    \n",
       "1      John   809325  01-December-2024             A254RR    2,00,000.00    \n",
       "2  Sebestian  809323  15-December-2023             A23RTY        4,00,00    \n",
       "3      Shiva  802025  20-December-2023             ASFRTU    1,50,000.00    \n",
       "\n",
       "  Final Tenure  ROI  Processing Fess  Unnamed: 8  \n",
       "0          23M    8              100         NaN  \n",
       "1          36M    9              200         NaN  \n",
       "2           6M    9               50         NaN  \n",
       "3          30M    8              150         NaN  "
      ]
     },
     "execution_count": 47,
     "metadata": {},
     "output_type": "execute_result"
    }
   ],
   "source": [
    "input_data"
   ]
  },
  {
   "cell_type": "code",
   "execution_count": 35,
   "id": "7a1c4041",
   "metadata": {},
   "outputs": [],
   "source": [
    "\n",
    "#output folder all the files will be saved here\n",
    "\n",
    "os.chdir(r\"C:\\Users\\Desktop\\Excel_word_py\\Output_Folder\")"
   ]
  },
  {
   "cell_type": "code",
   "execution_count": 48,
   "id": "82e91b25",
   "metadata": {},
   "outputs": [],
   "source": [
    "\n",
    "\n",
    "input_data['Date'] = pd.to_datetime(input_data['Date'])\n",
    "input_data['Date'] = input_data['Date'].dt.strftime('%d-%B-%Y')\n",
    "\n",
    "Date=input_data[\"Date\"].values\n",
    "Appilication_Number=input_data['Application Number'].values\n",
    "\n",
    "Approved_Amount=input_data['Aprroved Amount'].values\n",
    "Final_TENURE = input_data['Final Tenure'].values\n",
    "\n",
    "ROI=input_data[\"ROI\"].values\n",
    "PF=input_data[\"Processing Fess\"].values\n",
    "\n",
    "Member_Name = input_data[\"Name\"]\n",
    "Policy = input_data[\"Policy\"]\n",
    "\n"
   ]
  },
  {
   "cell_type": "code",
   "execution_count": 49,
   "id": "43020573",
   "metadata": {},
   "outputs": [],
   "source": [
    "zipped = zip(Appilication_Number,Approved_Amount,Final_TENURE,ROI,PF,Member_Name)"
   ]
  },
  {
   "cell_type": "code",
   "execution_count": 50,
   "id": "e629aab2",
   "metadata": {},
   "outputs": [
    {
     "data": {
      "text/html": [
       "<div>\n",
       "<style scoped>\n",
       "    .dataframe tbody tr th:only-of-type {\n",
       "        vertical-align: middle;\n",
       "    }\n",
       "\n",
       "    .dataframe tbody tr th {\n",
       "        vertical-align: top;\n",
       "    }\n",
       "\n",
       "    .dataframe thead th {\n",
       "        text-align: right;\n",
       "    }\n",
       "</style>\n",
       "<table border=\"1\" class=\"dataframe\">\n",
       "  <thead>\n",
       "    <tr style=\"text-align: right;\">\n",
       "      <th></th>\n",
       "      <th>Name</th>\n",
       "      <th>Policy</th>\n",
       "      <th>Date</th>\n",
       "      <th>Application Number</th>\n",
       "      <th>Aprroved Amount</th>\n",
       "      <th>Final Tenure</th>\n",
       "      <th>ROI</th>\n",
       "      <th>Processing Fess</th>\n",
       "      <th>Unnamed: 8</th>\n",
       "    </tr>\n",
       "  </thead>\n",
       "  <tbody>\n",
       "    <tr>\n",
       "      <th>0</th>\n",
       "      <td>Merry</td>\n",
       "      <td>809314</td>\n",
       "      <td>31-December-2024</td>\n",
       "      <td>A234TR</td>\n",
       "      <td>1,00,000.00</td>\n",
       "      <td>23M</td>\n",
       "      <td>8</td>\n",
       "      <td>100</td>\n",
       "      <td>NaN</td>\n",
       "    </tr>\n",
       "    <tr>\n",
       "      <th>1</th>\n",
       "      <td>John</td>\n",
       "      <td>809325</td>\n",
       "      <td>01-December-2024</td>\n",
       "      <td>A254RR</td>\n",
       "      <td>2,00,000.00</td>\n",
       "      <td>36M</td>\n",
       "      <td>9</td>\n",
       "      <td>200</td>\n",
       "      <td>NaN</td>\n",
       "    </tr>\n",
       "    <tr>\n",
       "      <th>2</th>\n",
       "      <td>Sebestian</td>\n",
       "      <td>809323</td>\n",
       "      <td>15-December-2023</td>\n",
       "      <td>A23RTY</td>\n",
       "      <td>4,00,00</td>\n",
       "      <td>6M</td>\n",
       "      <td>9</td>\n",
       "      <td>50</td>\n",
       "      <td>NaN</td>\n",
       "    </tr>\n",
       "    <tr>\n",
       "      <th>3</th>\n",
       "      <td>Shiva</td>\n",
       "      <td>802025</td>\n",
       "      <td>20-December-2023</td>\n",
       "      <td>ASFRTU</td>\n",
       "      <td>1,50,000.00</td>\n",
       "      <td>30M</td>\n",
       "      <td>8</td>\n",
       "      <td>150</td>\n",
       "      <td>NaN</td>\n",
       "    </tr>\n",
       "  </tbody>\n",
       "</table>\n",
       "</div>"
      ],
      "text/plain": [
       "        Name  Policy              Date Application Number Aprroved Amount  \\\n",
       "0      Merry  809314  31-December-2024             A234TR    1,00,000.00    \n",
       "1      John   809325  01-December-2024             A254RR    2,00,000.00    \n",
       "2  Sebestian  809323  15-December-2023             A23RTY        4,00,00    \n",
       "3      Shiva  802025  20-December-2023             ASFRTU    1,50,000.00    \n",
       "\n",
       "  Final Tenure  ROI  Processing Fess  Unnamed: 8  \n",
       "0          23M    8              100         NaN  \n",
       "1          36M    9              200         NaN  \n",
       "2           6M    9               50         NaN  \n",
       "3          30M    8              150         NaN  "
      ]
     },
     "execution_count": 50,
     "metadata": {},
     "output_type": "execute_result"
    }
   ],
   "source": [
    "input_data\n",
    "   "
   ]
  },
  {
   "cell_type": "code",
   "execution_count": 51,
   "id": "43cff77e",
   "metadata": {},
   "outputs": [
    {
     "name": "stdout",
     "output_type": "stream",
     "text": [
      "All Files done successfully!\n"
     ]
    }
   ],
   "source": [
    "for a,b,c,d,f,g, in zipped:\n",
    "    doc=DocxTemplate(input_doc)\n",
    "    \n",
    "    context={\"a\":a,\"b\":b,\"c\":c,\"d\":d,'f':f,'g':g}\n",
    "\n",
    "    \n",
    " \n",
    "    # Render template\n",
    "    doc.render(context)\n",
    "    \n",
    "    # Save document\n",
    "    \n",
    "    doc.save(r\"Sanction Letter {} {}_file.docx\".format(a,g))\n",
    "print(\"All Files done successfully!\")\n"
   ]
  },
  {
   "cell_type": "code",
   "execution_count": null,
   "id": "1c2f9e1a",
   "metadata": {},
   "outputs": [],
   "source": []
  },
  {
   "cell_type": "code",
   "execution_count": null,
   "id": "5d655335",
   "metadata": {},
   "outputs": [],
   "source": [
    "\n",
    "# Converting all the word files into PDF files "
   ]
  },
  {
   "cell_type": "code",
   "execution_count": 52,
   "id": "c90af275",
   "metadata": {},
   "outputs": [],
   "source": [
    "from docx2pdf import convert"
   ]
  },
  {
   "cell_type": "code",
   "execution_count": 41,
   "id": "3016ad75",
   "metadata": {},
   "outputs": [
    {
     "data": {
      "application/vnd.jupyter.widget-view+json": {
       "model_id": "e796dac447204619a910fed2ca70a643",
       "version_major": 2,
       "version_minor": 0
      },
      "text/plain": [
       "0it [00:00, ?it/s]"
      ]
     },
     "metadata": {},
     "output_type": "display_data"
    }
   ],
   "source": [
    "convert(r\"C:\\Users\\Desktop\\Excel_word_py\\Output_Folder\")\n",
    "\n"
   ]
  },
  {
   "cell_type": "code",
   "execution_count": 54,
   "id": "9660028d",
   "metadata": {},
   "outputs": [
    {
     "data": {
      "application/vnd.jupyter.widget-view+json": {
       "model_id": "88d1e0f460834ca596019f70c5d30ad7",
       "version_major": 2,
       "version_minor": 0
      },
      "text/plain": [
       "  0%|          | 0/4 [00:00<?, ?it/s]"
      ]
     },
     "metadata": {},
     "output_type": "display_data"
    }
   ],
   "source": [
    "convert(r\"C:\\Users\\Akash kumar Ram\\Desktop\\Excel_word_py\\Output_Folder\")"
   ]
  },
  {
   "cell_type": "code",
   "execution_count": null,
   "id": "9c37a876",
   "metadata": {},
   "outputs": [],
   "source": []
  }
 ],
 "metadata": {
  "kernelspec": {
   "display_name": "Python 3 (ipykernel)",
   "language": "python",
   "name": "python3"
  },
  "language_info": {
   "codemirror_mode": {
    "name": "ipython",
    "version": 3
   },
   "file_extension": ".py",
   "mimetype": "text/x-python",
   "name": "python",
   "nbconvert_exporter": "python",
   "pygments_lexer": "ipython3",
   "version": "3.9.13"
  }
 },
 "nbformat": 4,
 "nbformat_minor": 5
}
